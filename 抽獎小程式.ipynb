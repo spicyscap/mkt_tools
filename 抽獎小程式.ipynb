{
 "cells": [
  {
   "cell_type": "code",
   "execution_count": 6,
   "metadata": {},
   "outputs": [
    {
     "data": {
      "text/plain": [
       "85"
      ]
     },
     "execution_count": 6,
     "metadata": {},
     "output_type": "execute_result"
    }
   ],
   "source": [
    "random.choice(RawList)"
   ]
  },
  {
   "cell_type": "code",
   "execution_count": 113,
   "metadata": {},
   "outputs": [],
   "source": [
    "import random\n",
    "import pandas as pd\n",
    "RawData = pd.read_csv('槓龜王重複簽到人數_20200428_python.csv') # 變數1 -> 鎖死\n",
    "RawList = RawData['invitecode'].to_list() # 變數2 -> 鎖死\n",
    "\n",
    "SampleQty = 5000 # 變數3\n",
    "D1 = {}"
   ]
  },
  {
   "cell_type": "code",
   "execution_count": 120,
   "metadata": {},
   "outputs": [
    {
     "name": "stdout",
     "output_type": "stream",
     "text": [
      "原始人數: \t194001\n",
      "不重複原始人數: \t34916\n",
      "預計抽出人數: \t5000\n",
      "實際抽出人數: \t5000\n"
     ]
    }
   ],
   "source": [
    "print('原始人數: \\t'+str(len(RawList)))\n",
    "print('不重複原始人數: \\t'+str(len(set(RawList))))\n",
    "print('預計抽出人數: \\t'+str(SampleQty))\n",
    "\n",
    "if len(set(RawList)) > SampleQty:\n",
    "    while len(D1) < SampleQty:\n",
    "        inv = random.choice(RawList)\n",
    "        if inv not in D1:\n",
    "            D1[inv] = 1\n",
    "        elif inv in D1:\n",
    "            D1[inv] += 1\n",
    "        else:\n",
    "            print('opps')\n",
    "        # print(len(D1))\n",
    "else:\n",
    "    print('opps2')\n",
    "    \n",
    "print('實際抽出人數: \\t'+str(len(D1)))\n",
    "\n",
    "prize = pd.DataFrame(list(D1.items()),columns = ['invite_code','times'])"
   ]
  },
  {
   "cell_type": "markdown",
   "metadata": {},
   "source": [
    "# -----"
   ]
  },
  {
   "cell_type": "code",
   "execution_count": 214,
   "metadata": {},
   "outputs": [],
   "source": [
    "# Source Code\n",
    "# Last Modified : 2020.5.7 17:00\n",
    "import re\n",
    "import random\n",
    "import pandas as pd\n",
    "from os import listdir\n",
    "from datetime import datetime\n",
    "\n",
    "file_format = 'MR_Lottery'\n",
    "date_today  = datetime.today().strftime('%Y%m%d')\n",
    "\n",
    "# File Naming : 'MR_Lottery_(*****)Prize_.....csv'\n",
    "\n",
    "# Write Log\n",
    "f = open(r\"\"+'Processing_'+date_today+'_log.txt', 'a') # open file\n",
    "f.write('\\nBegin : '+datetime.today().strftime('%Y%m%d_%H%M%S')+'\\n') # begin time\n",
    "\n",
    "try :\n",
    "    # Read Csv File\n",
    "    CSV_file = list(filter(lambda y: y.startswith(file_format), list(filter(lambda x: '.csv' in x, listdir())))) # get csv file names\n",
    "    \n",
    "    for EachFile in CSV_file :\n",
    "        \n",
    "        # Step1: check file names format\n",
    "        spl_1 = re.search('Lottery_(\\d*)Prize_', EachFile)\n",
    "        if spl_1:\n",
    "            spl_2 = spl_1.group(1)\n",
    "            spl_3 = int(spl_2)\n",
    "            if spl_3 > 0:\n",
    "                SampleQty = spl_3\n",
    "        else:\n",
    "            SampleQty = 1\n",
    "            f.write('Error: 檔名格式錯誤\\n')\n",
    "\n",
    "        # Step2: read raw list\n",
    "        RawData = pd.read_csv(EachFile)\n",
    "        \n",
    "        # Step3: check if column name correct\n",
    "        if list(RawData.columns) == ['invite_code'] :\n",
    "            RawList = RawData['invite_code'].to_list() # trans column to list\n",
    "            \n",
    "            D1 = {}\n",
    "            \n",
    "            # write processing log\n",
    "            f.write('< '+EachFile+' >\\n')\n",
    "            f.write('原始人數: \\t'+str(len(RawList))+'\\n')\n",
    "            f.write('不重複原始人數: \\t'+str(len(set(RawList)))+'\\n')\n",
    "            f.write('預計抽出人數: \\t'+str(SampleQty)+'\\n')\n",
    "            \n",
    "            # Step4: get random list\n",
    "            # cond: mother should bigger than son\n",
    "            if len(set(RawList)) > SampleQty:\n",
    "                while len(D1) < SampleQty:\n",
    "                    inv = random.choice(RawList)\n",
    "                    if inv not in D1:\n",
    "                        D1[inv] = 1\n",
    "                    elif inv in D1:\n",
    "                        D1[inv] += 1\n",
    "                    else:\n",
    "                        f.write(inv+' Opps\\n')\n",
    "            else:\n",
    "                f.write('Error: 欲抽出的人數大於抽獎名單\\n')\n",
    "            \n",
    "            f.write('實際抽出人數: \\t'+str(len(D1))+'\\n')\n",
    "            prize = pd.DataFrame(list(D1.items()),columns = ['invite_code','times'])\n",
    "\n",
    "            prize.to_csv(r\"\"+'Done_'+EachFile[:-4]+'_'+date_today+'.csv', sep=',', index=False, header=False) # write\n",
    "except :\n",
    "    f.write('Opps\\n')\n",
    "\n",
    "f.write('End : '+datetime.today().strftime('%Y%m%d_%H%M%S')) # end time\n",
    "f.close() # close file"
   ]
  },
  {
   "cell_type": "code",
   "execution_count": null,
   "metadata": {},
   "outputs": [],
   "source": []
  }
 ],
 "metadata": {
  "kernelspec": {
   "display_name": "Python 3",
   "language": "python",
   "name": "python3"
  },
  "language_info": {
   "codemirror_mode": {
    "name": "ipython",
    "version": 3
   },
   "file_extension": ".py",
   "mimetype": "text/x-python",
   "name": "python",
   "nbconvert_exporter": "python",
   "pygments_lexer": "ipython3",
   "version": "3.7.4"
  }
 },
 "nbformat": 4,
 "nbformat_minor": 2
}
